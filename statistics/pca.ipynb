{
 "cells": [
  {
   "cell_type": "code",
   "execution_count": 20,
   "metadata": {
    "collapsed": true
   },
   "source": [
    "%matplotlib inline\n",
    "import matplotlib\n",
    "import matplotlib.pyplot as plt\n",
    "\n",
    "import pandas as pd\n",
    "\n",
    "# assay samples file\n",
    "a_file = 'http://ftp.ebi.ac.uk/pub/databases/metabolights/studies/public/MTBLS280/a_ac.txt'\n",
    "a = pd.read_csv(a_file, sep=\"\\t\")\n",
    "\n",
    "# get unique sample names\n",
    "samples = a['Sample Name'].unique()\n",
    "samples.sort()\n",
    "print(samples.apply(lambda x: str(x)))\n",
    "\n",
    "# metabolite concentrations (ratio) file\n",
    "m_file = 'http://ftp.ebi.ac.uk/pub/databases/metabolights/studies/public/MTBLS280/m_ac.txt'\n",
    "m = pd.read_csv(m_file, sep=\"\\t\")\n",
    "\n",
    "# change formatting\n",
    "for sample in samples:\n",
    "    \n",
    "    sample_name = str(sample)\n",
    "    \n",
    "    # convert , to .\n",
    "    m[sample_name] = m[sample_name].apply(lambda x: x.replace(\",\", \".\"))\n",
    "    \n",
    "    # convert some columns to floats\n",
    "    m[sample_name] = m[sample_name].astype(float).fillna(0.0)\n",
    "\n",
    "# plot all compounds in sample 49\n",
    "m.plot(x='metabolite_identification', y='49')\n",
    "\n",
    "print(m.columns)\n",
    "print(m.head())\n",
    "\n",
    "choline = m[m['metabolite_identification'] == 'Choline']\n",
    "\n"
   ]
  },
  {
   "cell_type": "code",
   "execution_count": null,
   "metadata": {},
   "outputs": [],
   "source": [
    ""
   ]
  },
  {
   "cell_type": "code",
   "execution_count": null,
   "outputs": [],
   "source": [
    ""
   ]
  }
 ],
 "metadata": {
  "kernelspec": {
   "display_name": "Python 2",
   "language": "python",
   "name": "python2"
  },
  "language_info": {
   "codemirror_mode": {
    "name": "ipython",
    "version": 2.0
   },
   "file_extension": ".py",
   "mimetype": "text/x-python",
   "name": "python",
   "nbconvert_exporter": "python",
   "pygments_lexer": "ipython2",
   "version": "2.7.6"
  }
 },
 "nbformat": 4,
 "nbformat_minor": 0
}
